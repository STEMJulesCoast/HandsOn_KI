{
 "cells": [
  {
   "cell_type": "markdown",
   "metadata": {},
   "source": [
    "# Einführung in Unsupervised Learning: k-Means Clustering mit Python\n",
    "\n",
    "In diesem Übungsbeispiel wirst du Unsupervised Learning ausprobieren, bei der Algorithmen Muster und Strukturen in Datensätzen finden, ohne dabei auf vorherige Labels oder Anweisungen angewiesen zu sein. Ein weit verbreiteter und intuitiver Ansatz innerhalb dieser Kategorie ist das Clustering, und der k-Means Algorithmus ist eine der bekanntesten Techniken dafür.\n",
    "\n",
    "Clustering hilft uns, Einblicke in die Struktur unserer Daten zu gewinnen, indem es ähnliche Datenpunkte in Gruppen (Cluster) zusammenfasst. Diese Technik findet breite Anwendung in verschiedenen Bereichen, darunter Marktforschung, Bilderkennung und mehr, um verborgene Muster innerhalb des Datensatzes zu identifizieren.\n",
    "\n",
    "In diesem Tutorial werden wir:\n",
    "\n",
    "    Einen synthetischen Datensatz mit scikit-learn generieren, der sich gut für eine Clusteranalyse eignet.\n",
    "    Den k-Means Algorithmus anwenden, um unsere Daten in Cluster zu unterteilen.\n",
    "    Die Ergebnisse visualisieren, um ein Verständnis dafür zu entwickeln, wie k-Means die Daten organisiert und welche Einsichten wir daraus ziehen können.\n",
    "\n",
    "Ziel dieser Übung ist es, ein grundlegendes Verständnis für Clustering und seine Anwendung mit dem k-Means Algorithmus in Python zu entwickeln.\n",
    "\n",
    "Die Codezellen können schrittweise ausgeführt werden und es kann mit den Eingabeparamtern für das K-Means-Modell experimentiert werden.\n",
    "\n",
    "\n",
    "Danach kann ein eigenes Bild verwendet werden, um dieses zu segmentieren. Auch hier kann mit den Eingabeparamteren experimentiert werden."
   ]
  },
  {
   "cell_type": "code",
   "execution_count": null,
   "metadata": {},
   "outputs": [],
   "source": [
    "# run the cell\n",
    "# Import der nötigen Bibliotheken\n",
    "import numpy as np\n",
    "import matplotlib.pyplot as plt\n",
    "from sklearn.cluster import KMeans\n",
    "from sklearn.datasets import make_blobs\n",
    "\n",
    "\n",
    "\n",
    "# Schritt 1: Wir generieren zufällige Daten\n",
    "n_samples = 600\n",
    "random_state = 40\n",
    "X, _ = make_blobs(n_samples=n_samples, centers=6, cluster_std=0.60, random_state=random_state)\n",
    "\n"
   ]
  },
  {
   "cell_type": "markdown",
   "metadata": {},
   "source": [
    "In der folgenden Zelle kann mit der Anzahl der Cluster experimentiert werden. Dafür muss der Parameter `n_clusters` geändert werden."
   ]
  },
  {
   "cell_type": "code",
   "execution_count": null,
   "metadata": {},
   "outputs": [],
   "source": [
    "# hier kann n_clusters geändert werden\n",
    "# Schritt 2: Anwendung des k-Means Algorithmus\n",
    "kmeans = KMeans(n_clusters=6, random_state=random_state)\n",
    "kmeans.fit(X)\n",
    "y_kmeans = kmeans.predict(X)\n"
   ]
  },
  {
   "cell_type": "markdown",
   "metadata": {},
   "source": [
    "Im nächsten Schritt visualisieren wir die Ergebnisse des k-Means Clustering. Wie sollten wir `n_clusters` wählen, um sicherzustellen, dass die Anzahl der Cluster die Verteilung der Datenpunkte im Bild sinnvoll widerspiegelt?  \n",
    "\n",
    "**Aufgabe:**  \n",
    "\n",
    "Experimentiere mit unterschiedlichen Werten für `n_clusters`. Überlege, was ein „sinnvolles“ Clustering in diesem Kontext bedeutet und wie man entscheiden kann, wann die Clusteranzahl „richtig“ ist."
   ]
  },
  {
   "cell_type": "code",
   "execution_count": null,
   "metadata": {},
   "outputs": [],
   "source": [
    "# run the cell\n",
    "# Schritt 3: Visualisierung der Cluster\n",
    "plt.scatter(X[:, 0], X[:, 1], c=y_kmeans, s=50, cmap='viridis')\n",
    "\n",
    "centers = kmeans.cluster_centers_\n",
    "plt.scatter(centers[:, 0], centers[:, 1], c='red', s=200, alpha=0.5)\n",
    "plt.title(\"k-Means Clustering\")\n",
    "plt.xlabel(\"Feature 1\")\n",
    "plt.ylabel(\"Feature 2\")\n",
    "plt.show()"
   ]
  },
  {
   "cell_type": "markdown",
   "metadata": {},
   "source": [
    "## Bildsegmentierung mit K-Means\n",
    "\n",
    "\n",
    "In diesem Beispiel verwenden wir k-Means, um die Farben im Bild zu clustern, was zu einer reduzierten Farbpalette führt. Jedes Pixel wird dann durch die nächste Farbe in dieser Palette ersetzt, was zu einer Art \"gemaltes\" Bild führt, das immer noch das ursprüngliche Bild erkennen lässt, aber nur mit wenigen Farben."
   ]
  },
  {
   "cell_type": "code",
   "execution_count": null,
   "metadata": {},
   "outputs": [],
   "source": [
    "#import numpy as np\n",
    "#import matplotlib.pyplot as plt\n",
    "#from sklearn.cluster import KMeans\n",
    "from sklearn.utils import shuffle\n",
    "import imageio.v2 as imageio\n",
    "from imageio.v2 import imread"
   ]
  },
  {
   "cell_type": "markdown",
   "metadata": {},
   "source": [
    "Hier kann ein eigenes Bild geladen geben. Dafür den Pfad in `imread()` angeben, oder ein Bild in diesen Ordner hochladen und den Namen des Bildes angeben.\n",
    "\n",
    "**Aufgabe:**  \n",
    "\n",
    "Wähle ein eigenes Bild für die Segmentierung und gib den Pfad an."
   ]
  },
  {
   "cell_type": "code",
   "execution_count": null,
   "metadata": {},
   "outputs": [],
   "source": [
    "# Pfad anpassen\n",
    "# Schritt 1: Laden eines eigenen Bildes\n",
    "image = imread('Beispielbild.png') \n",
    "image = np.array(image, dtype=np.float64) / 255"
   ]
  },
  {
   "cell_type": "markdown",
   "metadata": {},
   "source": [
    "Für das Bildsegmentierungsbeispiel mit k-Means nehmen wir nur eine kleinen Teil als Stichprobe des Bildes zum Trainieren des Modells, weil k-Means auf der gesamten Menge der Pixel trainieren zu können, sehr rechenintensiv sein kann. Ein digitales Bild kann sehr sehr viele Pixel enthalten, und der k-Means Algorithmus arbeitet iterativ. Das bedeutet, dass jeder Durchlauf über die gesamten Daten iteriert. Dies kann auf Vollbilddaten sehr zeit- und ressourcenaufwändig sein.\n",
    "\n",
    "Durch die Reduzierung der Datenmenge auf eine kleine, repräsentative Stichprobe (1%) lassen sich die  wesentlichen Farben des Bildes erfassen und die Rechenzeit reduzieren. Die Annahme hier ist, dass eine zufällig ausgewählte kleine Menge von Pixeln eine gute Annäherung an die gesamte Farbverteilung im Bild bietet. Nach dem Training können die gefundenen Clusterzentren (die repräsentativen Farben) verwendet werden, um das gesamte Bild zu segmentieren.\n",
    "\n",
    "**Aufgabe:**  \n",
    "\n",
    "Experimentiere mit der Anzahl von `n_clusters`!"
   ]
  },
  {
   "cell_type": "code",
   "execution_count": null,
   "metadata": {},
   "outputs": [],
   "source": [
    "# run the cell\n",
    "# Schritt 2: Reshape das Bild zu einer 2D-Array von Pixeln und 3 Farbwerten (RGB)\n",
    "w, h, d = original_shape = tuple(image.shape)\n",
    "assert d == 3\n",
    "image_array = np.reshape(image, (w * h, d))\n",
    "\n",
    "# Schritt 3: Das Modell wird auf einen kleinen Teil der Daten gefittet, dafür reichen etwa 1% des Bildes. \n",
    "# Das Spart Zeit und Rechenressourcen\n",
    "image_sample = shuffle(image_array, random_state=0)[:int(0.01 * w * h)]\n",
    "\n",
    "kmeans = KMeans(n_clusters=15, random_state=0).fit(image_sample)"
   ]
  },
  {
   "cell_type": "markdown",
   "metadata": {},
   "source": [
    "Im nächsten Schritt nutzen wr das trainierte Modell und wenden es auf das gesammte Bild an.\n",
    "Dann werden die Ergebnisse visualisert. Das originalbild, sowie zwei Versionen des Clusterergebnisses.\n"
   ]
  },
  {
   "cell_type": "code",
   "execution_count": null,
   "metadata": {},
   "outputs": [],
   "source": [
    "\n",
    "\n",
    "# Schritt 4: Vorhersage der Clusterzuordnung für jeden Pixel im Bild\n",
    "labels = kmeans.predict(image_array)\n",
    "\n",
    "##### Visualisierung\n",
    "# Funktion zum Erstellen eines segmentierten Bildes aus den Labels\n",
    "def recreate_image(codebook, labels, w, h):\n",
    "    \"\"\"Recreate the (compressed) image from the code book & labels\"\"\"\n",
    "    d = codebook.shape[1]\n",
    "    image = np.zeros((w, h, d))\n",
    "    label_idx = 0\n",
    "    for i in range(w):\n",
    "        for j in range(h):\n",
    "            image[i][j] = codebook[labels[label_idx]]\n",
    "            label_idx += 1\n",
    "    return image\n",
    "\n",
    "\n",
    "\n",
    "# Zusätzliche Schritt: Zuweisen zufälliger Farben zu jedem Cluster\n",
    "np.random.seed(0)  # Für reproduzierbare Farben\n",
    "colors = np.random.rand(kmeans.n_clusters, 3)\n",
    "\n",
    "# Funktion zum Erstellen des Bildes, wo jeder Cluster eine zufällige Farbe hat\n",
    "def recreate_image_random_colors(codebook, labels, w, h):\n",
    "    \"\"\"Recreate the image from the code book & labels with random colors\"\"\"\n",
    "    d = codebook.shape[1]\n",
    "    image = np.zeros((w, h, d))\n",
    "    label_idx = 0\n",
    "    for i in range(w):\n",
    "        for j in range(h):\n",
    "            image[i][j] = colors[labels[label_idx]]\n",
    "            label_idx += 1\n",
    "    return image\n",
    "\n",
    "# Anzeigen aller drei Bilder: Original, Segmentiert mit realen Farben, Segmentiert mit zufälligen Farben\n",
    "fig, ax = plt.subplots(1, 3, figsize=(18, 6),\n",
    "                       subplot_kw=dict(xticks=[], yticks=[]))\n",
    "\n",
    "\n",
    "ax[0].imshow(image)\n",
    "ax[0].set_title('Original Image')\n",
    "ax[1].imshow(recreate_image(kmeans.cluster_centers_, labels, w, h))\n",
    "ax[1].set_title('Segmented Image (K-Means)')\n",
    "ax[2].imshow(recreate_image_random_colors(kmeans.cluster_centers_, labels, w, h))\n",
    "ax[2].set_title('Segmented Image with Random Cluster Colors')\n",
    "plt.show()\n"
   ]
  }
 ],
 "metadata": {
  "kernelspec": {
   "display_name": ".venv",
   "language": "python",
   "name": "python3"
  },
  "language_info": {
   "codemirror_mode": {
    "name": "ipython",
    "version": 3
   },
   "file_extension": ".py",
   "mimetype": "text/x-python",
   "name": "python",
   "nbconvert_exporter": "python",
   "pygments_lexer": "ipython3",
   "version": "3.12.2"
  }
 },
 "nbformat": 4,
 "nbformat_minor": 2
}
